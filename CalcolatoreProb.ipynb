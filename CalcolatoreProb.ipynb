{
 "cells": [
  {
   "cell_type": "code",
   "execution_count": 1,
   "id": "3919aa46",
   "metadata": {},
   "outputs": [],
   "source": [
    "from math import e\n",
    "import numpy as np\n",
    "import ipywidgets as widgets\n",
    "import matplotlib.pyplot as plt\n",
    "from IPython.core.display import HTML\n",
    "\n",
    "#variabili utili\n",
    "\n",
    "small = 0\n",
    "medium_low = 0\n",
    "medium_high = 0\n",
    "ict = 0\n",
    "hightech_noict = 0\n",
    "south = 0\n",
    "hightech = 0\n",
    "industrial = 0\n",
    "big_exp = 0\n",
    "medium_exp = 0\n",
    "\n",
    "share_skilled = 0\n",
    "no_cloud = 0\n",
    "no_bigdata = 0\n",
    "no_iot = 0\n",
    "\n",
    "difficult = 0\n",
    "no_interrupt = 0\n",
    "no_extra_work = 0\n",
    "no_data_loss = 0\n",
    "\n",
    "turnover_emp = 0\n",
    "turnover_emp_square = 0\n",
    "investimento = 0\n",
    "numero = 0\n",
    "numero_square = 0\n",
    "\n",
    "                                                  ##FUNZIONI UTILI##   \n",
    "    \n",
    "    \n",
    "#######################################################\n",
    "#regressioni probabilità di attacco\n",
    "def regr11(small, south, hightech, industrial, b_exp, m_exp, difficult):\n",
    "    r = -0.156 -0.109*small -0.206*south +0.080*hightech -0.113*industrial +0.016*b_exp +0.172*m_exp +0.212*difficult\n",
    "    prob = (e**r)/(1+e**r)\n",
    "    return prob\n",
    "    \n",
    "def regr12(small, south, hightech, industrial, b_exp, m_exp, difficult, skill):\n",
    "    r = -0.401 -0.097*small -0.225*south +0.040*hightech -0.052*industrial +0.005*b_exp +0.200*m_exp +0.255*difficult +0.465*skill\n",
    "    prob = (e**r)/(1+e**r)\n",
    "    return prob\n",
    "    \n",
    "def regr13(small, south, hightech, industrial, b_exp, m_exp, difficult, skill, nocloud, nobgai, noiot):\n",
    "    r = -0.419 -0.118*small -0.217*south +0.034*hightech -0.045*industrial +0.027*b_exp +0.155*m_exp +0.231*difficult +0.450*skill -0.037*nocloud +0.020*nobgai -0.115*noiot\n",
    "    prob = (e**r)/(1+e**r)\n",
    "    return prob\n",
    "\n",
    "\n",
    "\n",
    "\n",
    "########################################################\n",
    "\n",
    "#regressioni costo attacco\n",
    "# No costo/<10k: y*>-1.414\n",
    "# tra 10k e 49k: -2.055<y*<-1.414\n",
    "# tra 50k e 199k: -3.747<y*<-2.055\n",
    "# maggiore 200k: y*<-3.747\n",
    "\n",
    "\n",
    "#danni tra 10k e 49k\n",
    "def regr21(small, medium_low, medium_high, num_emp, num_emp_square, south, ict, ht_noict, industrial, turnover, turnover_sq, no_dis, no_extra, no_dataloss):\n",
    "    r = -2.055*small -0.512*medium_low -0.854*medium_high +(1.47*10**(-4))*num_emp +(-1.11*10**(-9))*num_emp_square +0.220*south +0.996*ict -0.103*ht_noict +0.534*industrial +(1.81*10**(-3))*turnover +(-2.59*10**(-7))*turnover_sq -0.353*no_dis -1.437*no_extra -0.398*no_dataloss\n",
    "    r1 = -1.414 + r\n",
    "    odds = e**r1\n",
    "    prob = (odds)/(1+odds)\n",
    "    return prob\n",
    "\n",
    "#danni tra 50k e 199k\n",
    "def regr22(small, medium_low, medium_high, num_emp, num_emp_square, south, ict, ht_noict, industrial, turnover, turnover_sq, no_dis, no_extra, no_dataloss):\n",
    "    r = -2.055*small -0.512*medium_low -0.854*medium_high +(1.47*10**(-4))*num_emp +(-1.11*10**(-9))*num_emp_square +0.220*south +0.996*ict -0.103*ht_noict +0.534*industrial +(1.81*10**(-3))*turnover +(-2.59*10**(-7))*turnover_sq -0.353*no_dis -1.437*no_extra -0.398*no_dataloss\n",
    "    r1 = -3.747 + r\n",
    "    odds = e**r1\n",
    "    prob = (odds)/(1+odds)\n",
    "    return prob\n",
    "\n",
    "#danni da 200k in su\n",
    "def regr23(small, medium_low, medium_high, num_emp, num_emp_square, south, ict, ht_noict, industrial, turnover, turnover_sq, no_dis, no_extra, no_dataloss): \n",
    "    r = -2.055*small -0.512*medium_low -0.854*medium_high +(1.47*10**(-4))*num_emp +(-1.11*10**(-9))*num_emp_square +0.220*south +0.996*ict -0.103*ht_noict +0.534*industrial +(1.81*10**(-3))*turnover +(-2.59*10**(-7))*turnover_sq -0.353*no_dis -1.437*no_extra -0.398*no_dataloss\n",
    "    r1 = -6.341 + r\n",
    "    odds = e**r1\n",
    "    prob = (odds)/(1+odds)\n",
    "    return prob\n",
    "#######################################################\n",
    "\n"
   ]
  },
  {
   "cell_type": "markdown",
   "id": "b3b192de",
   "metadata": {},
   "source": [
    "# Calcolo probabilità attacco informatico\n",
    "\n",
    "Benvenuto.\n",
    "\n",
    "In questo Jupyter notebook è possibile calcolare una stima della possibilità di essere vittima di un attacco informatico.\n",
    "Lo script python incorpora le funzioni di regressione statistica che sono stare ricavate nei due documenti di \"Questioni di Economia e Finanza\" usate per la tesi, e permette a chiunque di calcolare la probabilità che la propria azienda diventi vittima di un cyberattacco, basandosi ovviamente sui dati statistici ricavati da suddetti studi.\n",
    "Basta semplicemente inserire i dati necessari (quelli presenti nelle celle sottostanti) e far partire lo script.\n",
    "In aggiunta è stata implementata anche la regressione logistica ordinale che permette di calcolare una stima dell'eventuale danno subito (in Euro).\n",
    "\n",
    "Per maggiori informazioni ed eventuale documentazione scrollare fino al prossimo paragrafo.\n",
    "\n",
    "Per iniziare rispondi alle domande sottostanti.\n",
    "\n",
    "*N.B. Le domande contrassegnate con l'asterisco  sono obbligatorie*"
   ]
  },
  {
   "cell_type": "markdown",
   "id": "9df5827a",
   "metadata": {},
   "source": [
    "### Quanti dipendenti ha la tua azienda?* (Indicare numero di dipendenti approssimato)"
   ]
  },
  {
   "cell_type": "code",
   "execution_count": 2,
   "id": "811af1c2",
   "metadata": {},
   "outputs": [
    {
     "data": {
      "application/vnd.jupyter.widget-view+json": {
       "model_id": "e85d582593cb424bb6d55e184bd01507",
       "version_major": 2,
       "version_minor": 0
      },
      "text/plain": [
       "RadioButtons(options=('20-49', '50-199', '200-499', 'più di 500'), value='20-49')"
      ]
     },
     "metadata": {},
     "output_type": "display_data"
    },
    {
     "data": {
      "application/vnd.jupyter.widget-view+json": {
       "model_id": "2e863554f60244cfa1c64e6a9cdc70e3",
       "version_major": 2,
       "version_minor": 0
      },
      "text/plain": [
       "Textarea(value='0', placeholder='Numero dipendenti preciso')"
      ]
     },
     "metadata": {},
     "output_type": "display_data"
    }
   ],
   "source": [
    "dimension_choice = widgets.RadioButtons(\n",
    "    options=['20-49', '50-199', '200-499', 'più di 500'],\n",
    "    descriptions= '',\n",
    "    disabled=False\n",
    ")\n",
    "\n",
    "dimension_value= widgets.Textarea(\n",
    "    value='0',\n",
    "    placeholder='Numero dipendenti preciso',\n",
    "    description='',\n",
    "    disabled=False\n",
    ")\n",
    "\n",
    "display(dimension_choice)\n",
    "\n",
    "display(dimension_value)"
   ]
  },
  {
   "cell_type": "markdown",
   "id": "de3e8c49",
   "metadata": {},
   "source": [
    "### Fatturato per dipendente in euro*"
   ]
  },
  {
   "cell_type": "code",
   "execution_count": 3,
   "id": "b1a22fc5",
   "metadata": {},
   "outputs": [
    {
     "data": {
      "application/vnd.jupyter.widget-view+json": {
       "model_id": "0208c2d35e874b57b81a8db4fa27dd7f",
       "version_major": 2,
       "version_minor": 0
      },
      "text/plain": [
       "Textarea(value='0', placeholder='Euro')"
      ]
     },
     "metadata": {},
     "output_type": "display_data"
    }
   ],
   "source": [
    "turnover_value= widgets.Textarea(\n",
    "    value='0',\n",
    "    placeholder='Euro',\n",
    "    description='',\n",
    "    disabled=False\n",
    ")\n",
    "\n",
    "display(turnover_value)"
   ]
  },
  {
   "cell_type": "markdown",
   "id": "fd1422a0",
   "metadata": {},
   "source": [
    "### Dove si trova la tua azienda?*"
   ]
  },
  {
   "cell_type": "code",
   "execution_count": 4,
   "id": "2c744329",
   "metadata": {},
   "outputs": [
    {
     "data": {
      "application/vnd.jupyter.widget-view+json": {
       "model_id": "9ada5ba6748047ea80878c5e29acf482",
       "version_major": 2,
       "version_minor": 0
      },
      "text/plain": [
       "RadioButtons(options=('Sud o Isole', 'Centro', 'Nord'), value='Sud o Isole')"
      ]
     },
     "metadata": {},
     "output_type": "display_data"
    }
   ],
   "source": [
    "location_choice= widgets.RadioButtons(\n",
    "    options=['Sud o Isole', 'Centro', 'Nord'],\n",
    "    descriptions= '',\n",
    "    disabled=False\n",
    ")\n",
    "\n",
    "display(location_choice)"
   ]
  },
  {
   "cell_type": "markdown",
   "id": "babcfa07",
   "metadata": {},
   "source": [
    "### Qual è il livello tecnologico della tua azienda?*"
   ]
  },
  {
   "cell_type": "code",
   "execution_count": 5,
   "id": "765c9932",
   "metadata": {},
   "outputs": [
    {
     "data": {
      "application/vnd.jupyter.widget-view+json": {
       "model_id": "b5d9f1aa746e4d0d87d4a8bc72e2f40d",
       "version_major": 2,
       "version_minor": 0
      },
      "text/plain": [
       "RadioButtons(index=1, options=('Alto/medio-alto', 'Basso/medio-basso'), value='Basso/medio-basso')"
      ]
     },
     "metadata": {},
     "output_type": "display_data"
    }
   ],
   "source": [
    "tech_choice= widgets.RadioButtons(\n",
    "    options=['Alto/medio-alto', 'Basso/medio-basso'],\n",
    "    value='Basso/medio-basso',\n",
    "    disable= False,\n",
    ")\n",
    "\n",
    "display(tech_choice)"
   ]
  },
  {
   "cell_type": "markdown",
   "id": "bd3a55a7",
   "metadata": {},
   "source": [
    "### L'azienda è classificata come ICT (Information Communication Technology)?*"
   ]
  },
  {
   "cell_type": "code",
   "execution_count": 6,
   "id": "9e1717be",
   "metadata": {},
   "outputs": [
    {
     "data": {
      "application/vnd.jupyter.widget-view+json": {
       "model_id": "7f470ea020644105a83d534898f5e5f3",
       "version_major": 2,
       "version_minor": 0
      },
      "text/plain": [
       "RadioButtons(options=('Sì', 'No'), value='Sì')"
      ]
     },
     "metadata": {},
     "output_type": "display_data"
    }
   ],
   "source": [
    "ict_choice = widgets.RadioButtons(\n",
    "    options=['Sì', 'No'],\n",
    "    disable= False,\n",
    ")\n",
    "\n",
    "display(ict_choice)"
   ]
  },
  {
   "cell_type": "markdown",
   "id": "d5d00816",
   "metadata": {},
   "source": [
    "### L'azienda può essere classificata come manufatturiera, minararia o energetica?*"
   ]
  },
  {
   "cell_type": "code",
   "execution_count": 7,
   "id": "d0b10ba8",
   "metadata": {},
   "outputs": [
    {
     "data": {
      "application/vnd.jupyter.widget-view+json": {
       "model_id": "fbdd2086acbf4585af2c68a6df5cec04",
       "version_major": 2,
       "version_minor": 0
      },
      "text/plain": [
       "RadioButtons(options=('Sì', 'No'), value='Sì')"
      ]
     },
     "metadata": {},
     "output_type": "display_data"
    }
   ],
   "source": [
    "industrial_choice = widgets.RadioButtons(\n",
    "    options=['Sì', 'No'],\n",
    "    disable= False,\n",
    ")\n",
    "\n",
    "display(industrial_choice)"
   ]
  },
  {
   "cell_type": "markdown",
   "id": "24b1955a",
   "metadata": {},
   "source": [
    "### Esportazioni in percentuale del fatturato dell'azienda*"
   ]
  },
  {
   "cell_type": "code",
   "execution_count": 8,
   "id": "2c331134",
   "metadata": {},
   "outputs": [
    {
     "data": {
      "application/vnd.jupyter.widget-view+json": {
       "model_id": "7c36789f4a7a4246b8c8fb14914cda5f",
       "version_major": 2,
       "version_minor": 0
      },
      "text/plain": [
       "RadioButtons(options=('Meno di 1/3', 'Tra 1/3 e 2/3', 'Più di 2/3'), value='Meno di 1/3')"
      ]
     },
     "metadata": {},
     "output_type": "display_data"
    }
   ],
   "source": [
    "export_choice = widgets.RadioButtons(\n",
    "    options=['Meno di 1/3', 'Tra 1/3 e 2/3', 'Più di 2/3'],\n",
    "    disable= False,\n",
    ")\n",
    "\n",
    "display(export_choice)"
   ]
  },
  {
   "cell_type": "markdown",
   "id": "a7910264",
   "metadata": {},
   "source": [
    "### L'azienda fa uso di mobile Internet oppure cloud?  (In caso non si sappia o non si voglia rispondere, lasciare questa cella e le successive due sulla risposta: Non lo so)"
   ]
  },
  {
   "cell_type": "code",
   "execution_count": 9,
   "id": "761b4b16",
   "metadata": {},
   "outputs": [
    {
     "data": {
      "application/vnd.jupyter.widget-view+json": {
       "model_id": "b37dc93d49dc49c99ece6915e0655612",
       "version_major": 2,
       "version_minor": 0
      },
      "text/plain": [
       "RadioButtons(index=2, options=('Sì', 'No', 'Non lo so'), value='Non lo so')"
      ]
     },
     "metadata": {},
     "output_type": "display_data"
    }
   ],
   "source": [
    "cloud_choice = widgets.RadioButtons(\n",
    "    options=['Sì', 'No', 'Non lo so'],\n",
    "    disable= False,\n",
    "    value = 'Non lo so'\n",
    ")\n",
    "\n",
    "display(cloud_choice)"
   ]
  },
  {
   "cell_type": "markdown",
   "id": "cae44845",
   "metadata": {},
   "source": [
    "### L'azienda fa uso di Big Data o Intelligenza Artificiale?"
   ]
  },
  {
   "cell_type": "code",
   "execution_count": 10,
   "id": "28809163",
   "metadata": {},
   "outputs": [
    {
     "data": {
      "application/vnd.jupyter.widget-view+json": {
       "model_id": "dbe45370bf994583a8eaa463d77d6168",
       "version_major": 2,
       "version_minor": 0
      },
      "text/plain": [
       "RadioButtons(index=2, options=('Sì', 'No', 'Non lo so'), value='Non lo so')"
      ]
     },
     "metadata": {},
     "output_type": "display_data"
    }
   ],
   "source": [
    "ai_choice = widgets.RadioButtons(\n",
    "    options=['Sì', 'No', 'Non lo so'],\n",
    "    disable= False,\n",
    "    value = 'Non lo so'\n",
    ")\n",
    "\n",
    "display(ai_choice)"
   ]
  },
  {
   "cell_type": "markdown",
   "id": "da8b62f7",
   "metadata": {},
   "source": [
    "### L'azienda fa uso del IoT (Internet of Things)?"
   ]
  },
  {
   "cell_type": "code",
   "execution_count": 11,
   "id": "539cf5c4",
   "metadata": {},
   "outputs": [
    {
     "data": {
      "application/vnd.jupyter.widget-view+json": {
       "model_id": "4db6a21433bb4c6cb6c5db7a08867e61",
       "version_major": 2,
       "version_minor": 0
      },
      "text/plain": [
       "RadioButtons(index=2, options=('Sì', 'No', 'Non lo so'), value='Non lo so')"
      ]
     },
     "metadata": {},
     "output_type": "display_data"
    }
   ],
   "source": [
    "iot_choice = widgets.RadioButtons(\n",
    "    options=['Sì', 'No', 'Non lo so'],\n",
    "    disable= False,\n",
    "    value= 'Non lo so'\n",
    ")\n",
    "\n",
    "display(iot_choice)"
   ]
  },
  {
   "cell_type": "markdown",
   "id": "00431991",
   "metadata": {},
   "source": [
    "### Qual è la percentuale di personale \"preparato\"? (non considerare: stagisti, apprendisti, lavoratori saltuari e operai)*"
   ]
  },
  {
   "cell_type": "code",
   "execution_count": 12,
   "id": "5e1641c9",
   "metadata": {
    "scrolled": true
   },
   "outputs": [
    {
     "data": {
      "application/vnd.jupyter.widget-view+json": {
       "model_id": "66a0e4e8a11a48aaaf5a706f0b65f34c",
       "version_major": 2,
       "version_minor": 0
      },
      "text/plain": [
       "SelectionSlider(description='%', options=(0, 1, 2, 3, 4, 5, 6, 7, 8, 9, 10, 11, 12, 13, 14, 15, 16, 17, 18, 19…"
      ]
     },
     "metadata": {},
     "output_type": "display_data"
    }
   ],
   "source": [
    "v= np.arange(0, 101, 1)\n",
    "\n",
    "skill_choice= widgets.SelectionSlider(\n",
    "    options= v,\n",
    "    description='%'\n",
    ")\n",
    "\n",
    "display(skill_choice)"
   ]
  },
  {
   "cell_type": "markdown",
   "id": "f3d74e76",
   "metadata": {},
   "source": [
    "### Se l'azienda è stata vittima di un qualche tipo di attacco informatico selezionare le conseguenze (anche scelte multiple). \n",
    "\n",
    "N.B. *In caso di nessun attacco passato non rispondere.*"
   ]
  },
  {
   "cell_type": "code",
   "execution_count": 13,
   "id": "5f97dcc7",
   "metadata": {},
   "outputs": [
    {
     "data": {
      "application/vnd.jupyter.widget-view+json": {
       "model_id": "5f8fef1381194edf9c9f57039ed4a3cd",
       "version_major": 2,
       "version_minor": 0
      },
      "text/plain": [
       "Checkbox(value=False, description='Interruzione delle attività', indent=False)"
      ]
     },
     "metadata": {},
     "output_type": "display_data"
    },
    {
     "data": {
      "application/vnd.jupyter.widget-view+json": {
       "model_id": "e3e4c2ed932b43398df475dccb2394c7",
       "version_major": 2,
       "version_minor": 0
      },
      "text/plain": [
       "Checkbox(value=False, description='Perdita di dati', indent=False)"
      ]
     },
     "metadata": {},
     "output_type": "display_data"
    },
    {
     "data": {
      "application/vnd.jupyter.widget-view+json": {
       "model_id": "f557fb3babb9449ea3815ae3ece30b8e",
       "version_major": 2,
       "version_minor": 0
      },
      "text/plain": [
       "Checkbox(value=False, description='Lavoro extra', indent=False)"
      ]
     },
     "metadata": {},
     "output_type": "display_data"
    }
   ],
   "source": [
    "interruption_choice=widgets.Checkbox(\n",
    "    description='Interruzione delle attività',\n",
    "    disabled=False,\n",
    "    indent=False,\n",
    "    value=False\n",
    ")\n",
    "\n",
    "dataloss_choice=widgets.Checkbox(\n",
    "    description='Perdita di dati',\n",
    "    disabled=False,\n",
    "    indent=False,\n",
    "    value=False\n",
    ")\n",
    "\n",
    "extrawork_choice=widgets.Checkbox(\n",
    "    description='Lavoro extra',\n",
    "    disabled=False,\n",
    "    indent=False,\n",
    "    value=False\n",
    ")\n",
    "\n",
    "display(interruption_choice, dataloss_choice, extrawork_choice)"
   ]
  },
  {
   "cell_type": "markdown",
   "id": "3da065dd",
   "metadata": {},
   "source": [
    "### Hai reputato il questionario difficile?*"
   ]
  },
  {
   "cell_type": "code",
   "execution_count": 14,
   "id": "b5cf8b69",
   "metadata": {},
   "outputs": [
    {
     "data": {
      "application/vnd.jupyter.widget-view+json": {
       "model_id": "13c6a03d16434416835bda4be3f58a53",
       "version_major": 2,
       "version_minor": 0
      },
      "text/plain": [
       "RadioButtons(options=('Sì', 'No'), value='Sì')"
      ]
     },
     "metadata": {},
     "output_type": "display_data"
    }
   ],
   "source": [
    "hard_choice = widgets.RadioButtons(\n",
    "    options=['Sì', 'No'],\n",
    "    disable= False,\n",
    ")\n",
    "\n",
    "display(hard_choice)"
   ]
  },
  {
   "cell_type": "markdown",
   "id": "1c62bec9",
   "metadata": {},
   "source": [
    "## Conclusione\n",
    "\n",
    "Se hai risposto alle domande, premi **CTRL + ENTER** dopo aver selezionato la cella sottostante per visualizzare il risultato"
   ]
  },
  {
   "cell_type": "code",
   "execution_count": 17,
   "id": "695cd12a",
   "metadata": {},
   "outputs": [
    {
     "name": "stdout",
     "output_type": "stream",
     "text": [
      "La probabilità di essere colpito da un attacco informatico è: 41%\n",
      "\n"
     ]
    },
    {
     "data": {
      "image/png": "[encoded data removed]",
      "text/plain": [
       "<Figure size 432x288 with 1 Axes>"
      ]
     },
     "metadata": {},
     "output_type": "display_data"
    },
    {
     "name": "stdout",
     "output_type": "stream",
     "text": [
      "La probabilità di subire un danno pari a 0 Euro o inferiore a 10000 Euro : 79%\n",
      "\n",
      "La probabilità di subire un danno compreso tra 10000 Euro e 49999 Euro è: 19%\n",
      "\n",
      "La probabilità di subire un danno compreso tra 50000 Euro e 199999 Euro è: 2%\n",
      "\n",
      "La probabilità di subire un danno uguale o superiore a 200000 Euro è: 0%\n",
      "\n"
     ]
    },
    {
     "data": {
      "image/png": "[encoded data removed]",
      "text/plain": [
       "<Figure size 432x288 with 1 Axes>"
      ]
     },
     "metadata": {
      "needs_background": "light"
     },
     "output_type": "display_data"
    },
    {
     "data": {
      "text/html": [
       "\n",
       "    <style>\n",
       "    .output_png{\n",
       "        display: table-cell;\n",
       "        text-align: center;\n",
       "        vertical-align: middle;\n",
       "    }\n",
       "    </style>\n",
       "    "
      ],
      "text/plain": [
       "<IPython.core.display.HTML object>"
      ]
     },
     "execution_count": 17,
     "metadata": {},
     "output_type": "execute_result"
    }
   ],
   "source": [
    "                                             ##CONTROLLO DELLE RISPOSTE##\n",
    "\n",
    "if dimension_choice.value == '20-49':\n",
    "    small = 1\n",
    "    numero = float(dimension_value.value)\n",
    "elif dimension_choice.value == '50-199':\n",
    "    medium_low = 1\n",
    "    numero = float(dimension_value.value)\n",
    "elif dimension_choice.value == '200-499':\n",
    "    medium_high = 1\n",
    "    numero = float(dimension_value.value)\n",
    "else:\n",
    "    numero = float(dimension_value.value)\n",
    "\n",
    "numero_square = numero**2\n",
    "turnover_emp = float(turnover_value.value)\n",
    "turnover_emp_square = float(turnover_value.value)**2\n",
    "    \n",
    "if location_choice.value == 'Sud o Isole':\n",
    "    south = 1\n",
    "        \n",
    "if tech_choice.value == 'Alto/medio-alto':\n",
    "    hightech = 1\n",
    "        \n",
    "if industrial_choice.value == 'Sì':\n",
    "    industrial = 1\n",
    "        \n",
    "if ict_choice.value == 'Sì':\n",
    "    ict = 1\n",
    "elif ict_choice.value == 'No' and tech_choice.value == 'Alto/medio-alto':\n",
    "    hightech_noict = 1\n",
    "        \n",
    "if export_choice.value == 'Tra 1/3 e 2/3':\n",
    "    medium_exp = 1\n",
    "elif export_choice.value == 'Più di 2/3':\n",
    "    big_exp = 1\n",
    "        \n",
    "if cloud_choice.value == 'No':\n",
    "    no_cloud == 1\n",
    "        \n",
    "if ai_choice.value == 'No':\n",
    "    no_bigdata == 1\n",
    "        \n",
    "if iot_choice.value == 'No':\n",
    "    no_iot = 1\n",
    "        \n",
    "share_skilled = (float(skill_choice.value))/100\n",
    "    \n",
    "if interruption_choice.value == False:\n",
    "    no_interrupt = 1\n",
    "        \n",
    "if dataloss_choice.value == False:\n",
    "    no_data_loss = 1\n",
    "        \n",
    "if extrawork_choice.value == False:\n",
    "    no_extra_work = 1\n",
    "        \n",
    "if hard_choice.value == 'Sì':\n",
    "    difficult = 1\n",
    "\n",
    "    \n",
    "\n",
    "    \n",
    "    \n",
    "                                             ##CALCOLO PROBABILITA'##\n",
    "\n",
    "if share_skilled == 0:\n",
    "    risultato = regr11(small, south, hightech, industrial, big_exp, medium_exp, difficult)\n",
    "    print('La probabilità di essere colpito da un attacco informatico è: ' + str(round(risultato*100)) + '%\\n')\n",
    "elif share_skilled !=0 and cloud_choice.value == 'Non lo so' and ai_choice.value == 'Non lo so' and iot_choice == 'Non lo so':\n",
    "    risultato = regr12(small, south, hightech, industrial, big_exp, medium_exp, difficult, share_skilled)\n",
    "    print('La probabilità di essere colpito da un attacco informatico è: ' + str(round(risultato*100)) + '%\\n')\n",
    "else:\n",
    "    risultato = regr13(small, south, hightech, industrial, big_exp, medium_exp, difficult, share_skilled, no_cloud, no_bigdata, no_iot)\n",
    "    print('La probabilità di essere colpito da un attacco informatico è: ' + str(round(risultato*100)) + '%\\n')\n",
    "\n",
    "\n",
    "#GRAFICO 1 - il pie chart\n",
    "%matplotlib inline\n",
    "\n",
    "labels = ['YES', 'NO']\n",
    "sizes = [round(risultato*100), round((1-risultato)*100)]\n",
    "\n",
    "fig, ax = plt.subplots()\n",
    "ax.pie(sizes,\n",
    "       labels=labels,\n",
    "       autopct='%1.1f%%',)\n",
    "ax.axis('equal')\n",
    "ax.set_title('Pobabilità di essre colpito')\n",
    "\n",
    "plt.savefig('pie_plot.png')\n",
    "plt.show()\n",
    "\n",
    "\n",
    "    \n",
    "p1 = regr21(small, medium_low, medium_high, numero, numero_square, south, ict, hightech_noict, industrial, turnover_emp, turnover_emp_square, no_interrupt, no_extra_work, no_data_loss)\n",
    "p2 = regr22(small, medium_low, medium_high, numero, numero_square, south, ict, hightech_noict, industrial, turnover_emp, turnover_emp_square, no_interrupt, no_extra_work, no_data_loss)\n",
    "p3 = regr23(small, medium_low, medium_high, numero, numero_square, south, ict, hightech_noict, industrial, turnover_emp, turnover_emp_square, no_interrupt, no_extra_work, no_data_loss)\n",
    "\n",
    "prob3 = p3\n",
    "prob2 = p2-p3\n",
    "prob1 = p1-p2\n",
    "prob0 = 1-p1\n",
    "\n",
    "print('La probabilità di subire un danno pari a 0 Euro o inferiore a 10000 Euro : ' + str(round(prob0*100)) + '%\\n')\n",
    "print('La probabilità di subire un danno compreso tra 10000 Euro e 49999 Euro è: ' + str(round(prob1*100)) + '%\\n')\n",
    "print('La probabilità di subire un danno compreso tra 50000 Euro e 199999 Euro è: ' + str(round(prob2*100)) + '%\\n')\n",
    "print('La probabilità di subire un danno uguale o superiore a 200000 Euro è: ' + str(round(prob3*100)) + '%\\n')\n",
    "\n",
    "\n",
    "\n",
    "#GRAFICO 2 - Bar Chart\n",
    "materials = ['0-9000', '10000-49999', '50000-199999', '200000+']\n",
    "x_pos = np.arange(len(materials))\n",
    "CTEs = [prob0, prob1, prob2, prob3]\n",
    "\n",
    "\n",
    "fig, ax = plt.subplots()\n",
    "\n",
    "ax.bar(x_pos, CTEs, align='center', alpha=0.5)\n",
    "ax.set_ylabel('Percentuale')\n",
    "ax.set_xticks(x_pos)\n",
    "ax.set_xticklabels(materials)\n",
    "ax.set_title('PERCENTUALE FASCE DI COSTO')\n",
    "ax.yaxis.grid(True)\n",
    "\n",
    "\n",
    "plt.tight_layout()\n",
    "plt.savefig('bar_plot.png')\n",
    "plt.show()\n",
    "\n",
    "\n",
    "\n",
    "#Serve a centrare i due grafici\n",
    "HTML(\"\"\"\n",
    "    <style>\n",
    "    .output_png{\n",
    "        display: table-cell;\n",
    "        text-align: center;\n",
    "        vertical-align: middle;\n",
    "    }\n",
    "    </style>\n",
    "    \"\"\")\n"
   ]
  }
 ],
 "metadata": {
  "kernelspec": {
   "display_name": "Python 3 (ipykernel)",
   "language": "python",
   "name": "python3"
  },
  "language_info": {
   "codemirror_mode": {
    "name": "ipython",
    "version": 3
   },
   "file_extension": ".py",
   "mimetype": "text/x-python",
   "name": "python",
   "nbconvert_exporter": "python",
   "pygments_lexer": "ipython3",
   "version": "3.9.6"
  }
 },
 "nbformat": 4,
 "nbformat_minor": 5
}
